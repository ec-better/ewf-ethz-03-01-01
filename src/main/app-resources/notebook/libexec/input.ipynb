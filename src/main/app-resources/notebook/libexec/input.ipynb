{
 "cells": [
  {
   "cell_type": "markdown",
   "metadata": {},
   "source": [
    "## ETHZ-03-01-01 - Mapping landslides with Deep Learning algorithms applied to EO data"
   ]
  },
  {
   "cell_type": "markdown",
   "metadata": {},
   "source": [
    "This application takes Sentinel-2 and ALO DEM to generate a landslide mask"
   ]
  },
  {
   "cell_type": "markdown",
   "metadata": {},
   "source": [
    "### <a name=\"service\">Service definition"
   ]
  },
  {
   "cell_type": "code",
   "execution_count": null,
   "metadata": {
    "collapsed": true
   },
   "outputs": [],
   "source": [
    "service = dict([('title', 'Landslide mapping with Deep Learning algorithms applied to EO data'),\n",
    "                ('abstract', 'This application takes Sentinel-2 and ALO DEM to generate a landslide mask'),\n",
    "                ('id', 'ewf-notebook-stagein-2')])"
   ]
  },
  {
   "cell_type": "markdown",
   "metadata": {},
   "source": [
    "### Parameter Definition"
   ]
  },
  {
   "cell_type": "code",
   "execution_count": null,
   "metadata": {},
   "outputs": [],
   "source": [
    "#model = dict([('id', 'model'),\n",
    "#            ('value', 'Oregon'),\n",
    "#            ('title', 'Chose the model trained in: Oregon or Bhutan'),\n",
    "#            ('abstract', 'Set the value of WKT Polygon')])"
   ]
  },
  {
   "cell_type": "code",
   "execution_count": null,
   "metadata": {},
   "outputs": [],
   "source": [
    "model = dict([('id', 'model'),\n",
    "            ('value', 'Bhutan'),\n",
    "            ('title', 'Chose the model trained in: Oregon or Bhutan'),\n",
    "            ('abstract', 'Set the value of WKT Polygon')])"
   ]
  },
  {
   "cell_type": "code",
   "execution_count": null,
   "metadata": {},
   "outputs": [],
   "source": [
    "#aoi = dict([('id', 'aoi'),\n",
    "#            ('value', 'POLYGON ((456037.4350113738 4837015.1639622, 456037.4350113738 4855174.452151849, 425620.7027991246 4855174.452151849, 425620.7027991246 4837015.1639622, 456037.4350113738 4837015.1639622))'),\n",
    "#            ('title', 'WKT Polygon for the Bounding Box in EPSG:32610 (Oregon model) or EPSG:32646 (Bhutan model) '),\n",
    "#            ('abstract', 'Set the value of WKT Polygon according to the model chosen')])"
   ]
  },
  {
   "cell_type": "code",
   "execution_count": null,
   "metadata": {},
   "outputs": [],
   "source": [
    "aoi = dict([('id', 'aoi'),\n",
    "            ('value', 'POLYGON ((231100.37601192091824487 3032459.54463443346321583, 208550.73706856259377673 3032867.78160779643803835, 208550.73706856259377673 3097148.90503269853070378, 231100.37601192091824487 3096740.66805933555588126, 231100.37601192091824487 3032459.54463443346321583))'),\n",
    "            ('title', 'WKT Polygon for the Bounding Box in EPSG:32610 (Oregon model) or EPSG:32646 (Bhutan model) '),\n",
    "            ('abstract', 'Set the value of WKT Polygon according to the model chosen')])"
   ]
  },
  {
   "cell_type": "markdown",
   "metadata": {},
   "source": [
    "### <a name=\"runtime\">Runtime parameter definition"
   ]
  },
  {
   "cell_type": "markdown",
   "metadata": {},
   "source": [
    "**Input references**\n",
    "\n",
    "This is the Sentinel-1 stack catalogue references"
   ]
  },
  {
   "cell_type": "code",
   "execution_count": null,
   "metadata": {},
   "outputs": [],
   "source": [
    "#input_references = ('https://catalog.terradue.com/sentinel2/search?format=atom&uid=S2B_MSIL1C_20200412T185909_N0209_R013_T10TDP_20200412T221853', 'https://catalog.terradue.com/alos-dem/search?format=atom&uid=N043W124')"
   ]
  },
  {
   "cell_type": "code",
   "execution_count": null,
   "metadata": {
    "collapsed": false,
    "slideshow": {
     "slide_type": "subslide"
    }
   },
   "outputs": [],
   "source": [
    "input_references = ('https://catalog.terradue.com/sentinel2/search?format=atom&uid=S2B_MSIL1C_20191116T044039_N0208_R033_T46RBR_20191116T072925', 'https://catalog.terradue.com/alos-dem/search?format=atom&uid=N027E090') "
   ]
  },
  {
   "cell_type": "markdown",
   "metadata": {
    "slideshow": {
     "slide_type": "slide"
    }
   },
   "source": [
    "**Data path**\n",
    "\n",
    "This path defines where the data is staged-in. "
   ]
  },
  {
   "cell_type": "code",
   "execution_count": null,
   "metadata": {
    "collapsed": true
   },
   "outputs": [],
   "source": [
    "data_path = \"/workspace/data\""
   ]
  },
  {
   "cell_type": "markdown",
   "metadata": {},
   "source": [
    "**Local path**\n",
    "\n",
    "This path defines where the full path to each data product. "
   ]
  },
  {
   "cell_type": "code",
   "execution_count": null,
   "metadata": {},
   "outputs": [],
   "source": [
    "import os"
   ]
  },
  {
   "cell_type": "code",
   "execution_count": null,
   "metadata": {},
   "outputs": [],
   "source": [
    "#local_data = ('/workspace/data/S2B_MSIL1C_20200412T185909_N0209_R013_T10TDP_20200412T221853', '/workspace/data/N043W124')"
   ]
  },
  {
   "cell_type": "code",
   "execution_count": null,
   "metadata": {},
   "outputs": [],
   "source": [
    "local_data = ('/workspace/data/S2B_MSIL1C_20191116T044039_N0208_R033_T46RBR_20191116T072925', '/workspace/data/N027E090')"
   ]
  },
  {
   "cell_type": "markdown",
   "metadata": {},
   "source": [
    "## <a name=\"workflow\">Workflow"
   ]
  },
  {
   "cell_type": "markdown",
   "metadata": {},
   "source": [
    "#### Import the packages required for processing the data"
   ]
  },
  {
   "cell_type": "code",
   "execution_count": null,
   "metadata": {
    "collapsed": true
   },
   "outputs": [],
   "source": [
    "import os\n",
    "import sys\n",
    "import shutil\n",
    "sys.path.append(os.getcwd())\n",
    "sys.path.append('/application/notebook/libexec/')\n",
    "\n",
    "import helpers as nx\n",
    "\n",
    "# Bin folder for the SAGA-GIS installation\n",
    "SAGA_PATH = \"/usr/local/bin\" \n",
    "SAGA_PATH = \"/home/davidcordeiro/saga/bin\" \n",
    "OG_PATH = os.environ['PATH']\n",
    "if SAGA_PATH not in OG_PATH:\n",
    "    os.environ['PATH'] = \"{}:{}\".format(SAGA_PATH, OG_PATH)\n",
    "\n",
    "import cioppy\n",
    "ciop = cioppy.Cioppy()"
   ]
  },
  {
   "cell_type": "markdown",
   "metadata": {},
   "source": [
    "## <a name=\"stage-in\">Stage-In"
   ]
  },
  {
   "cell_type": "code",
   "execution_count": null,
   "metadata": {},
   "outputs": [],
   "source": [
    "for path, reference in zip(local_data, input_references):\n",
    "    search = ciop.search(end_point = reference,\n",
    "                         params = [],\n",
    "                         output_fields='platform', \n",
    "                         model='EOP')\n",
    "    platform = search[0]['platform']\n",
    "    if platform == 'S2B' or platform == 'S2A':\n",
    "        SOURCE_SENTINEL_FOLDER = path\n",
    "    elif platform == 'ALOS':\n",
    "        SOURCE_DEM_FOLDER = path"
   ]
  },
  {
   "cell_type": "markdown",
   "metadata": {},
   "source": [
    "##### DEM input"
   ]
  },
  {
   "cell_type": "code",
   "execution_count": null,
   "metadata": {},
   "outputs": [],
   "source": [
    "dsm_identifier = [f for f in os.listdir(SOURCE_DEM_FOLDER) if (os.path.isfile(os.path.join(SOURCE_DEM_FOLDER, f)) and f.endswith('DSM.tif'))]\n",
    "SOURCE_DEM_PATH = os.path.join(SOURCE_DEM_FOLDER, dsm_identifier[0])"
   ]
  },
  {
   "cell_type": "markdown",
   "metadata": {},
   "source": [
    "##### Sentinel input"
   ]
  },
  {
   "cell_type": "code",
   "execution_count": null,
   "metadata": {},
   "outputs": [],
   "source": [
    "s2_identifier          = os.path.basename(SOURCE_SENTINEL_FOLDER)\n",
    "SOURCE_S2_SAFE         = os.path.join(SOURCE_SENTINEL_FOLDER, s2_identifier + \".SAFE\")\n",
    "s2_granule             = os.path.join(SOURCE_S2_SAFE, 'GRANULE')\n",
    "s2_interfolder         = [name for name in os.listdir(s2_granule)][0]\n",
    "SOURCE_S2_IMAGE_FOLDER = os.path.join(s2_granule, s2_interfolder, 'IMG_DATA')"
   ]
  },
  {
   "cell_type": "markdown",
   "metadata": {},
   "source": [
    "## Pre-Processing constants"
   ]
  },
  {
   "cell_type": "code",
   "execution_count": null,
   "metadata": {},
   "outputs": [],
   "source": [
    "region = model['value']\n",
    "if region == 'Oregon':\n",
    "    PROJECT_EPSG      = 32610\n",
    "    model_name        = 'trainedModelOregon.hdf5'\n",
    "    S2_RESOLUTION = [7]\n",
    "    WORK_RES = 27\n",
    "elif region == 'Bhutan':\n",
    "    PROJECT_EPSG      = 32646\n",
    "    model_name        = 'trainedModelBhutan.hdf5'\n",
    "    S2_RESOLUTION = [10]\n",
    "    WORK_RES = 30"
   ]
  },
  {
   "cell_type": "markdown",
   "metadata": {},
   "source": [
    "##### Folders paths"
   ]
  },
  {
   "cell_type": "code",
   "execution_count": null,
   "metadata": {
    "collapsed": false,
    "slideshow": {
     "slide_type": "subslide"
    }
   },
   "outputs": [],
   "source": [
    "FEATURES_PATH     = os.path.join(data_path, 'derivedFeatures', 'features')\n",
    "OPTICAL_PATH      = os.path.join(data_path, 'derivedFeatures', 'fromOptical')\n",
    "DEM_PATH          = os.path.join(data_path, 'derivedFeatures', 'multiScaleDEM')\n",
    "BOUNDARY_PATH     = os.path.join(data_path, 'derivedFeatures', 'boundary')\n",
    "AOI_SHP_PATH      = os.path.join(data_path, 'aoi', 'aoi.shp')\n",
    "BBOX_SHP_PATH     = os.path.join(data_path, 'aoi', 'bbox.shp')"
   ]
  },
  {
   "cell_type": "markdown",
   "metadata": {},
   "source": [
    "##### Ensure that all the folders exists"
   ]
  },
  {
   "cell_type": "code",
   "execution_count": null,
   "metadata": {},
   "outputs": [],
   "source": [
    "if os.path.isdir(os.path.dirname(FEATURES_PATH)):\n",
    "    shutil.rmtree(os.path.dirname(FEATURES_PATH))\n",
    "if os.path.isdir(os.path.dirname(BBOX_SHP_PATH)):\n",
    "    shutil.rmtree(os.path.dirname(BBOX_SHP_PATH))\n",
    "nx.ensure_dir(os.path.join(FEATURES_PATH, \"dummy\"))\n",
    "nx.ensure_dir(os.path.join(OPTICAL_PATH, \"dummy\"))\n",
    "nx.ensure_dir(os.path.join(DEM_PATH, \"dummy\"))\n",
    "nx.ensure_dir(os.path.join(BOUNDARY_PATH, \"dummy\"))\n",
    "nx.ensure_dir(BBOX_SHP_PATH)"
   ]
  },
  {
   "cell_type": "markdown",
   "metadata": {},
   "source": [
    "##### DEM Scale Factors"
   ]
  },
  {
   "cell_type": "code",
   "execution_count": null,
   "metadata": {},
   "outputs": [],
   "source": [
    "NO_DATA_VALUE_DEM = -9999\n",
    "RESAMPLING_FACTOR_DEM = [1, 2, 3, 4]"
   ]
  },
  {
   "cell_type": "markdown",
   "metadata": {},
   "source": [
    "##### Sentinel-2 Images Parameters"
   ]
  },
  {
   "cell_type": "code",
   "execution_count": null,
   "metadata": {},
   "outputs": [],
   "source": [
    "split_id = s2_identifier.split(\"_\")\n",
    "IMG_STRING = \"_\".join([split_id[-2], split_id[2]])"
   ]
  },
  {
   "cell_type": "code",
   "execution_count": null,
   "metadata": {},
   "outputs": [],
   "source": [
    "CREATE_RGB_RESCALED = True\n",
    "R_MIN_MAX_CH = [ 300 , 1200, 'R' ]\n",
    "B_MIN_MAX_CH = [ 800 , 1200, 'B' ]\n",
    "G_MIN_MAX_CH = [ 450 , 1100, 'G' ]\n",
    "IR_MIN_MAX_CH= [ 400 , 3800,  '' ]"
   ]
  },
  {
   "cell_type": "markdown",
   "metadata": {},
   "source": [
    "##### Wetness connected"
   ]
  },
  {
   "cell_type": "code",
   "execution_count": null,
   "metadata": {},
   "outputs": [],
   "source": [
    "WETNESS_T = 9\n",
    "CENTRE_OF_PIXEL_DISTANCE = 5 \n",
    "N_CONNECTED_PIXEL_MIN = 125\n",
    "CLOSE_T = 3"
   ]
  },
  {
   "cell_type": "markdown",
   "metadata": {},
   "source": [
    "##### Region type"
   ]
  },
  {
   "cell_type": "code",
   "execution_count": null,
   "metadata": {},
   "outputs": [],
   "source": [
    "REGION_TYPE = 'Pred'"
   ]
  },
  {
   "cell_type": "markdown",
   "metadata": {},
   "source": [
    "##### Pre-Processing outputs"
   ]
  },
  {
   "cell_type": "code",
   "execution_count": null,
   "metadata": {},
   "outputs": [],
   "source": [
    "region = model['value']\n",
    "if region == 'Oregon':\n",
    "    inputImages = [[ os.path.join(FEATURES_PATH, 'DEM_007_HILLSHADE.tif'),         1/255.0 ],\n",
    "                   [ os.path.join(FEATURES_PATH, 'DEM_007_HILLSHADE_45.tif'),      1/255.0 ],\n",
    "                   [ os.path.join(FEATURES_PATH, 'DEM_007_HILLSHADE_180.tif'),     1/255.0 ],\n",
    "                   [ os.path.join(FEATURES_PATH, 'DEM_007_ROUGHNESS.tif'),         1/150.0 ],\n",
    "\n",
    "                   [ os.path.join(FEATURES_PATH, 'DEM_014_SLOPE.tif'),             1/90.0 ], \n",
    "\n",
    "                   [ os.path.join(FEATURES_PATH, 'DEM_027_WETNESS_connected.tif'), 1/255.0 ],\n",
    "\n",
    "                   [ os.path.join(OPTICAL_PATH,  'S2_NDVI_007_UINT8.tif'),         1/255.0 ],\n",
    "\n",
    "                   [ os.path.join(OPTICAL_PATH,  'S2_B03_007_UINT8.tif'),          1/255.0 ],\n",
    "                   [ os.path.join(OPTICAL_PATH,  'S2_B04_007_UINT8.tif'),          1/255.0 ],\n",
    "                   [ os.path.join(OPTICAL_PATH,  'S2_B08_007_UINT8.tif'),          1/255.0 ]]\n",
    "    \n",
    "elif region == 'Bhutan':\n",
    "    inputImages = [[ os.path.join(FEATURES_PATH, 'DEM_030_HILLSHADE.tif'),         1/255.0 ],\n",
    "                   [ os.path.join(FEATURES_PATH, 'DEM_030_HILLSHADE_45.tif'),      1/255.0 ],\n",
    "                   [ os.path.join(FEATURES_PATH, 'DEM_030_HILLSHADE_180.tif'),     1/255.0 ],\n",
    "                   [ os.path.join(FEATURES_PATH, 'DEM_030_ROUGHNESS.tif'),         1/150.0 ],\n",
    "\n",
    "                   [ os.path.join(FEATURES_PATH, 'DEM_030_SLOPE.tif'),             1/60.0 ], \n",
    "\n",
    "                   [ os.path.join(FEATURES_PATH, 'DEM_030_WETNESS_connected.tif'), 1/255.0 ],\n",
    "\n",
    "                   [ os.path.join(OPTICAL_PATH,  'S2_NDVI_010_UINT8.tif'),         1/255.0 ],\n",
    "\n",
    "                   [ os.path.join(OPTICAL_PATH,  'S2_B02_010_UINT8.tif'),          1/255.0 ],\n",
    "                   [ os.path.join(OPTICAL_PATH,  'S2_B03_010_UINT8.tif'),          1/255.0 ],\n",
    "                   [ os.path.join(OPTICAL_PATH,  'S2_B04_010_UINT8.tif'),          1/255.0 ],\n",
    "                   [ os.path.join(OPTICAL_PATH,  'S2_B08_010_UINT8.tif'),          1/255.0 ]]\n",
    "\n",
    "DL_INPUT_PATH = [ ]\n",
    "DL_SCALE_PARAMETER  = [ ]\n",
    "\n",
    "for i, j in inputImages:\n",
    "    DL_INPUT_PATH.append(i)\n",
    "    DL_SCALE_PARAMETER.append(j)"
   ]
  },
  {
   "cell_type": "markdown",
   "metadata": {
    "slideshow": {
     "slide_type": "slide"
    }
   },
   "source": [
    "## Multi-resolution DEM"
   ]
  },
  {
   "cell_type": "code",
   "execution_count": null,
   "metadata": {
    "collapsed": false,
    "slideshow": {
     "slide_type": "subslide"
    }
   },
   "outputs": [],
   "source": [
    "import numpy as np\n",
    "from osgeo import gdal   \n",
    "import cv2\n",
    "import math"
   ]
  },
  {
   "cell_type": "code",
   "execution_count": null,
   "metadata": {},
   "outputs": [],
   "source": [
    "ciop.log (\"INFO\", \"Conversion of WKT to SHP\")\n",
    "interpolation_method = cv2.INTER_LINEAR\n",
    "demPath_diff_px = os.path.join(DEM_PATH, 'temp_diff_px.tif')\n",
    "demPath_xeqy = os.path.join(DEM_PATH, 'temp_xeqy.tif')\n",
    "\n",
    "nx.wkt2shp(aoi['value'], PROJECT_EPSG, BBOX_SHP_PATH, True)"
   ]
  },
  {
   "cell_type": "code",
   "execution_count": null,
   "metadata": {},
   "outputs": [],
   "source": [
    "ciop.log (\"INFO\", \"Intersecting DEM data with SHP\")\n",
    "gdalwrapCmd = \"/opt/anaconda/envs/p36-ethz-03-01-01/bin/gdalwarp -cutline \" + BBOX_SHP_PATH + \\\n",
    "    \" -crop_to_cutline -t_srs EPSG:\" + str(PROJECT_EPSG) + \\\n",
    "    \" -r bilinear -dstnodata \" + str(NO_DATA_VALUE_DEM) +  \\\n",
    "    \" -of GTiff -overwrite \" + str(SOURCE_DEM_PATH) + \" \" + str(demPath_diff_px) \n",
    "os.system(gdalwrapCmd)"
   ]
  },
  {
   "cell_type": "code",
   "execution_count": null,
   "metadata": {},
   "outputs": [],
   "source": [
    "region = model['value']\n",
    "if region == 'Oregon':\n",
    "    gdaltranslateCmd = \"/opt/anaconda/envs/p36-ethz-03-01-01/bin/gdal_translate -tr 27 27 {} {}\"\n",
    "elif region == 'Bhutan':\n",
    "    gdaltranslateCmd = \"/opt/anaconda/envs/p36-ethz-03-01-01/bin/gdal_translate -tr 30 30 {} {}\"\n",
    "\n",
    "os.system(gdaltranslateCmd.format(str(demPath_diff_px), str(demPath_xeqy)))"
   ]
  },
  {
   "cell_type": "code",
   "execution_count": null,
   "metadata": {},
   "outputs": [],
   "source": [
    "def get_image_transform(image_path):\n",
    "    # Get information from image\n",
    "    dataset = gdal.Open(image_path, gdal.GA_ReadOnly)\n",
    "    projection = dataset.GetProjection()\n",
    "\n",
    "    geotransform = dataset.GetGeoTransform()\n",
    "    xSize = dataset.RasterXSize\n",
    "    ySize = dataset.RasterYSize\n",
    "    xResolution = geotransform[1]\n",
    "    yResolution = geotransform[5]\n",
    "\n",
    "    image = dataset.ReadAsArray()\n",
    "    image = np.float32(image)\n",
    "    image[image == NO_DATA_VALUE_DEM] = np.nan\n",
    "    return image, geotransform, projection"
   ]
  },
  {
   "cell_type": "code",
   "execution_count": null,
   "metadata": {},
   "outputs": [],
   "source": [
    "diff_px_image, diff_px_transform, projection = get_image_transform(demPath_diff_px)\n",
    "eq_px_image, eq_px_transform, projection = get_image_transform(demPath_xeqy)"
   ]
  },
  {
   "cell_type": "code",
   "execution_count": null,
   "metadata": {},
   "outputs": [],
   "source": [
    "def get_transformation_resolution(resolution):\n",
    "    return str(math.ceil(resolution)).zfill(3)"
   ]
  },
  {
   "cell_type": "code",
   "execution_count": null,
   "metadata": {},
   "outputs": [],
   "source": [
    "ciop.log (\"INFO\", \"Resampling DEM data\")\n",
    "for scale in RESAMPLING_FACTOR_DEM:\n",
    "    image = eq_px_image if scale == 1 else diff_px_image\n",
    "    geotransform = eq_px_transform if scale == 1 else diff_px_transform\n",
    "    #https://medium.com/@wenrudong/what-is-opencvs-inter-area-actually-doing-282a626a09b3\n",
    "    newData = cv2.resize(image, None, fx = scale, fy = scale, interpolation=interpolation_method) \n",
    "    \n",
    "    newGeotransform = list(geotransform)\n",
    "    newGeotransform[1] = geotransform[1]/scale\n",
    "    newGeotransform[5] = geotransform[5]/scale\n",
    "    newGeotransform = tuple(newGeotransform)\n",
    "    filename_template = 'DEM_{}.{}'\n",
    "    newFileName = os.path.join(DEM_PATH, filename_template.format(get_transformation_resolution(newGeotransform[1]), 'tif'))\n",
    "    nx.writeNumpyArr2Geotiff(newFileName, newData, geoTransform = newGeotransform, projection = projection, GDAL_dtype = gdal.GDT_Int16, noDataValue = -9999)\n",
    "    print(\"Written:\",  newFileName)\n",
    "    newFileNameSaga = os.path.join(DEM_PATH, filename_template.format(get_transformation_resolution(newGeotransform[1]), 'sdat'))\n",
    "    saga_convert = \"/opt/anaconda/envs/p36-ethz-03-01-01/bin/gdal_translate -of SAGA {} {}\".format(newFileName, newFileNameSaga)\n",
    "    print(\"Running: {}\".format(saga_convert))\n",
    "    os.system(saga_convert)"
   ]
  },
  {
   "cell_type": "markdown",
   "metadata": {},
   "source": [
    "## Features from DEM"
   ]
  },
  {
   "cell_type": "code",
   "execution_count": null,
   "metadata": {},
   "outputs": [],
   "source": [
    "ciop.log (\"INFO\", \"Computing Hillshade, Roughness and Slope using GDAL\")\n",
    "rasterPaths = nx.getResolution(DEM_PATH, return_full_paths = True)\n",
    "optGDAL = ['hillshade', 'roughness', 'slope']\n",
    "arguments = ['', '', '']\n",
    "\n",
    "for rasterPath in rasterPaths:\n",
    "    if not os.path.isfile(rasterPath):\n",
    "        print('Unable to open input file ' + rasterPath)\n",
    "        continue\n",
    "    basename = '{}_{}{}'.format(os.path.basename(rasterPath)[:-4], '{}', '{}')\n",
    "    for opt, arg in zip(optGDAL, arguments):\n",
    "        outputPath = os.path.join(FEATURES_PATH, basename.format(opt.upper(), '.tif'))\n",
    "        if outputPath in DL_INPUT_PATH:\n",
    "            commandGDAL = '/opt/anaconda/envs/p36-ethz-03-01-01/bin/gdaldem ' + opt + ' ' + rasterPath + ' '  + outputPath + ' ' + str(arg)\n",
    "            print('Running: ' + commandGDAL)\n",
    "            os.system(commandGDAL)\n",
    "        \n",
    "        if opt == 'hillshade':\n",
    "            for az in [45, 180]:\n",
    "                variant_ext = \"_{}.{}\".format(str(az), \"tif\")\n",
    "                outputPath = os.path.join(FEATURES_PATH, basename.format(opt.upper(), variant_ext))\n",
    "                if outputPath in DL_INPUT_PATH:\n",
    "                    commandGDAL = '/opt/anaconda/envs/p36-ethz-03-01-01/bin/gdaldem ' + opt + ' ' + rasterPath + ' -az ' + str(az) + ' ' + outputPath + ' ' + str(arg)\n",
    "                    print('Running: ' + commandGDAL)\n",
    "                    os.system(commandGDAL)\n"
   ]
  },
  {
   "cell_type": "code",
   "execution_count": null,
   "metadata": {},
   "outputs": [],
   "source": [
    "ciop.log (\"INFO\", \"Computing Wetness using SAGA-GIS\")\n",
    "\n",
    "commandCompound = \"saga_cmd ta_compound 0\"\n",
    "outputArgsCompound = ['-WETNESS']\n",
    "\n",
    "for rasterPath in rasterPaths:\n",
    "    INPUT = nx.joinStrArg( ' -ELEVATION' , rasterPath[:-4] + '.sgrd') \n",
    "    outPath = []\n",
    "    newArgs = []\n",
    "    for arg in outputArgsCompound:\n",
    "        partial_filename = 'DEM_{}'.format(str(WORK_RES).zfill(3))\n",
    "        tmp_path = os.path.join(FEATURES_PATH, os.path.basename(rasterPath)[:-4] + '_' + arg[1:] + '.sdat')\n",
    "\n",
    "        if partial_filename in os.path.basename(rasterPath)[:-4]:\n",
    "            newArgs.append(arg)\n",
    "            outPath.append(tmp_path)\n",
    "    ARG = ''\n",
    "    for x, y in zip(newArgs, outPath):\n",
    "        ARG = nx.joinStrArg(ARG, nx.joinStrArg(x,y))\n",
    "    if ARG:\n",
    "        print(\"Running: \" + commandCompound + INPUT + ARG )\n",
    "        os.system(commandCompound + INPUT + ARG)"
   ]
  },
  {
   "cell_type": "markdown",
   "metadata": {},
   "source": [
    "## Rasterize AoI"
   ]
  },
  {
   "cell_type": "code",
   "execution_count": null,
   "metadata": {},
   "outputs": [],
   "source": [
    "from osgeo import gdal, ogr, osr\n",
    "gdal.UseExceptions()"
   ]
  },
  {
   "cell_type": "code",
   "execution_count": null,
   "metadata": {},
   "outputs": [],
   "source": [
    "resolution = nx.getResolution(DEM_PATH)\n",
    "nx.wkt2shp(aoi['value'], PROJECT_EPSG, AOI_SHP_PATH)\n",
    "vectorPath = AOI_SHP_PATH"
   ]
  },
  {
   "cell_type": "code",
   "execution_count": null,
   "metadata": {},
   "outputs": [],
   "source": [
    "ciop.log (\"INFO\", \"Rasterizing the Area of Interest\")\n",
    "for res in resolution:\n",
    "    rasterPath = os.path.join(DEM_PATH, 'DEM_' + str(res).zfill(3) + '.tif')\n",
    "    outputPath = os.path.join(BOUNDARY_PATH, REGION_TYPE + '_' + str(res).zfill(3) + '.tif')\n",
    "\n",
    "    try:\n",
    "        ds = gdal.Open(rasterPath)\n",
    "    except RuntimeError:\n",
    "        print('Unable to open input file')\n",
    "        sys.exit(1)\n",
    "\n",
    "    geoTransform = ds.GetGeoTransform()\n",
    "    projection = ds.GetProjection()\n",
    "    srs = osr.SpatialReference(wkt=projection)\n",
    "    nscn, npix = ds.RasterYSize, ds.RasterXSize \n",
    "    if srs.IsProjected():\n",
    "        print('PCS: ', srs.GetAttrValue('projcs'))\n",
    "    else:\n",
    "        print('GCS: ', srs.GetAttrValue('geogcs'))\n",
    "\n",
    "    vs = ogr.Open(vectorPath)\n",
    "    layer = vs.GetLayer()\n",
    "\n",
    "    ds_new = gdal.GetDriverByName('GTiff').Create(outputPath, npix, nscn, 1, gdal.GDT_Byte)\n",
    "    ds_new.SetGeoTransform(ds.GetGeoTransform())\n",
    "    ds_new.SetProjection(ds.GetProjection())\n",
    "\n",
    "    outBand = ds_new.GetRasterBand(1)\n",
    "    outBand.Fill(0)\n",
    "    ds_new.GetRasterBand(1).SetNoDataValue(0)\n",
    "\n",
    "    # Rasterize the shapefile layer to our new dataset\n",
    "    status = gdal.RasterizeLayer(ds_new,  # output to our new dataset\n",
    "                                 [1],  # output to our new dataset's first band\n",
    "                                 layer,  # rasterize this layer\n",
    "                                 None, None,  # don't worry about transformations since we're in same projection\n",
    "                                 [1],  # burn value 1\n",
    "                                 ['ALL_TOUCHED=TRUE'])  # rasterize all pixels touched by polygons\n",
    "\n",
    "    # Close dataset\n",
    "    ds_new.FlushCache()\n",
    "    ds_new = None\n",
    "    outBand = None\n",
    "\n",
    "    ds = None\n"
   ]
  },
  {
   "cell_type": "markdown",
   "metadata": {},
   "source": [
    "## Crop Sentinel-2 Raster to DEM extent"
   ]
  },
  {
   "cell_type": "code",
   "execution_count": null,
   "metadata": {
    "collapsed": true
   },
   "outputs": [],
   "source": [
    "TMP_S2_WORKSPACE = os.path.join(data_path, 'TMP_S2')\n",
    "if os.path.isdir(TMP_S2_WORKSPACE):\n",
    "    shutil.rmtree(os.path.dirname(os.path.join(TMP_S2_WORKSPACE, \"dummy\")))\n"
   ]
  },
  {
   "cell_type": "code",
   "execution_count": null,
   "metadata": {
    "collapsed": false,
    "slideshow": {
     "slide_type": "subslide"
    }
   },
   "outputs": [],
   "source": [
    "ciop.log (\"INFO\", \"Cropping Sentinel-2 Raster to DEM extent\")\n",
    "for res in S2_RESOLUTION:\n",
    "\n",
    "    #destRaster = os.path.join(DEM_PATH, 'DEM_' + str(res).zfill(3) + '.tif')\n",
    "    destRaster = os.path.join(BOUNDARY_PATH, REGION_TYPE + '_' + str(res).zfill(3) + '.tif')\n",
    "    noData = '-srcnodata 0 -dstnodata 0'\n",
    "    inputOutputList = []\n",
    "    for band in ['_B02', '_B03', '_B04', '_B08']:\n",
    "        source_in = os.path.join(SOURCE_S2_IMAGE_FOLDER, IMG_STRING + band + '.jp2')\n",
    "        opt_feat  = os.path.join(OPTICAL_PATH, 'S2' + band + '_' + str(res).zfill(3) + '.tif')\n",
    "        inputOutputList.append([source_in, opt_feat])\n",
    "    \n",
    "    \n",
    "    raster_ds = gdal.Open(destRaster, gdal.GA_ReadOnly)\n",
    "    \n",
    "    projection = raster_ds.GetProjection()\n",
    "    geoTransform = raster_ds.GetGeoTransform()\n",
    "    epsg = int(nx.wkt2EPSG(projection).split(':')[1])\n",
    "    \n",
    "    tgt_srs = osr.SpatialReference()\n",
    "    tgt_srs.ImportFromWkt(projection)\n",
    "    \n",
    "    cornerPoints = nx.getCornerCoordinates(raster_ds, False)\n",
    "    \n",
    "    npixDEM = raster_ds.RasterXSize\n",
    "    nscnDEM = raster_ds.RasterYSize\n",
    "    \n",
    "    dem = nx.readGDAL2numpy(destRaster)\n",
    "    \n",
    "    # create ring\n",
    "    ring = ogr.Geometry(ogr.wkbLinearRing)\n",
    "    for point in cornerPoints:\n",
    "        lat = point[0]\n",
    "        long = point[1]\n",
    "        ring.AddPoint(lat,long)\n",
    "    \n",
    "    #add first point again to close ring\n",
    "    ring.AddPoint(cornerPoints[0][0], cornerPoints[0][1])\n",
    "    \n",
    "    #add ring to polygon\n",
    "    extentPoly = ogr.Geometry(ogr.wkbPolygon)\n",
    "    extentPoly.AddGeometry(ring)\n",
    "    del ring\n",
    "    \n",
    "    ##Define a geographic coordinate system\n",
    "    #gcs = osr.SpatialReference()\n",
    "    #gcs.ImportFromEPSG(epsg)\n",
    "    \n",
    "    ##Assign Spatial Refrence to polygon\n",
    "    extentPoly.AssignSpatialReference(tgt_srs)\n",
    "    \n",
    "    nx.ensure_dir(os.path.join(TMP_S2_WORKSPACE, \"dummy\"))\n",
    "    \n",
    "    driver = ogr.GetDriverByName('Esri Shapefile')\n",
    "    ds = driver.CreateDataSource(os.path.join(TMP_S2_WORKSPACE, 'demExtent_EPSG' + str(epsg) + '.shp'))\n",
    "    layer = ds.CreateLayer('', None, ogr.wkbPolygon)\n",
    "    \n",
    "    # Add an attribute\n",
    "    layer.CreateField(ogr.FieldDefn('id', ogr.OFTInteger))\n",
    "    defn = layer.GetLayerDefn()\n",
    "    \n",
    "    # Create a new feature\n",
    "    feat = ogr.Feature(defn)\n",
    "    feat.SetField('id', 123)\n",
    "    feat.SetGeometry(extentPoly)\n",
    "    \n",
    "    layer.CreateFeature(feat)\n",
    "    \n",
    "    feat = None\n",
    "    ds = layer = feat = None\n",
    "    \n",
    "    tgt_srs.MorphToESRI()\n",
    "    \n",
    "    file = open(os.path.join(TMP_S2_WORKSPACE, 'demExtent_EPSG' + str(epsg) + '.prj'), 'w')\n",
    "    file.write(tgt_srs.ExportToWkt())\n",
    "    file.close()\n",
    "    \n",
    "    for raster2clip, outputRasterFileName in inputOutputList:\n",
    "        if outputRasterFileName is None or  outputRasterFileName == '':\n",
    "            outputRasterFileName = str(raster2clip[:-4]) + '_reProjected.tif'\n",
    "        \n",
    "        assert os.path.exists(raster2clip)\n",
    "        \n",
    "        cmdStr = '/opt/anaconda/envs/p36-ethz-03-01-01/bin/gdalwarp -overwrite -t_srs EPSG:' + str(epsg) + ' -r cubic ' + noData + ' -multi -q -cutline ' + os.path.join(TMP_S2_WORKSPACE, 'demExtent_EPSG' + str(epsg) + '.shp') + ' -crop_to_cutline -tr ' \\\n",
    "                    + str(geoTransform[1]) + ' ' + str(geoTransform[5]) + ' -of GTiff ' + str(raster2clip) + ' ' + str(outputRasterFileName)\n",
    "        print('EXECUTE >> ' + str(cmdStr))\n",
    "        os.system(cmdStr)\n",
    "        nx.resizeToDEM(outputRasterFileName, (nscnDEM, npixDEM), geoTransform, projection, noData = 0)\n",
    "        print\n",
    "    shutil.rmtree(os.path.dirname(os.path.join(TMP_S2_WORKSPACE, \"dummy\")))"
   ]
  },
  {
   "cell_type": "markdown",
   "metadata": {},
   "source": [
    "## Sentinel-2 Derive from Optical"
   ]
  },
  {
   "cell_type": "code",
   "execution_count": null,
   "metadata": {},
   "outputs": [],
   "source": [
    "ciop.log (\"INFO\", \"Computing optical features from Sentinel-2\")\n",
    "for res in S2_RESOLUTION:\n",
    "    BLUE  = os.path.join(OPTICAL_PATH, 'S2_B02_' + str(res).zfill(3) + '.tif')\n",
    "    GREEN = os.path.join(OPTICAL_PATH, 'S2_B03_' + str(res).zfill(3) + '.tif')\n",
    "    RED   = os.path.join(OPTICAL_PATH, 'S2_B04_' + str(res).zfill(3) + '.tif')\n",
    "    IR    = os.path.join(OPTICAL_PATH, 'S2_B08_' + str(res).zfill(3) + '.tif')\n",
    "        \n",
    "    def convert2Float(im):\n",
    "        im = np.float32(im)\n",
    "        im[im == 0] = np.nan\n",
    "        return im        \n",
    "    \n",
    "    def convert2Uint16(im):\n",
    "        im[im is np.nan] = 0\n",
    "        return np.uint16(im)\n",
    "    \n",
    "    def writeNumpyArr2Geotiff_RGBA(outputPath, data, geoTransform = None, projection = None, GDAL_dtype = gdal.GDT_Byte, noDataValue = None):\n",
    "        b, g, r, a = data\n",
    "        nscn, npix = b.shape\n",
    "        \n",
    "        if np.isnan(data).any() and noDataValue is not None:\n",
    "            data[np.isnan(data)] = noDataValue\n",
    "            \n",
    "        ds_new = gdal.GetDriverByName('GTiff').Create(outputPath, npix, nscn, 1, GDAL_dtype)\n",
    "        \n",
    "        if geoTransform != None:\n",
    "            ds_new.SetGeoTransform(geoTransform)\n",
    "            \n",
    "        if projection != None:\n",
    "            ds_new.SetProjection(projection)    \n",
    "        \n",
    "        outBand = ds_new.GetRasterBand(1)\n",
    "        outBand.WriteArray(data)\n",
    "        \n",
    "        if noDataValue != None:\n",
    "            ds_new.GetRasterBand(1).SetNoDataValue(noDataValue)\n",
    "        \n",
    "        # Close dataset\n",
    "        ds_new.FlushCache()\n",
    "        ds_new = None\n",
    "        outBand = None\n",
    "        \n",
    "        \n",
    "    ir, geoTransform, projection = nx.readGDAL2numpy(IR, True)\n",
    "    ir = convert2Float(ir)\n",
    "    \n",
    "    b = convert2Float(nx.readGDAL2numpy(BLUE, False))\n",
    "    g = convert2Float(nx.readGDAL2numpy(GREEN, False))\n",
    "    r = convert2Float(nx.readGDAL2numpy(RED, False))\n",
    "    \n",
    "    ndvi = (ir - r)/(ir + r)\n",
    "    \n",
    "    nx.writeNumpyArr2Geotiff(os.path.join(OPTICAL_PATH, 'S2_NDVI_' + str(res).zfill(3) + '.tif'), ndvi, geoTransform = geoTransform, \\\n",
    "                             projection = projection, GDAL_dtype = gdal.GDT_Float32, noDataValue = -9999)\n",
    "    \n",
    "        \n",
    "    ir = convert2Uint16(ir)\n",
    "    r = convert2Uint16(r)\n",
    "    b = convert2Uint16(b)\n",
    "    g = convert2Uint16(g)\n",
    "    \n",
    "    nscn, npix = b.shape\n",
    "    ds_new = gdal.GetDriverByName('GTiff').Create(os.path.join(OPTICAL_PATH, 'S2_RGBA_' + str(res).zfill(3) + '.tif'), npix, nscn, 4, gdal.GDT_UInt16)\n",
    "    \n",
    "    if geoTransform != None:\n",
    "        ds_new.SetGeoTransform(geoTransform)\n",
    "        \n",
    "    if projection != None:\n",
    "        ds_new.SetProjection(projection)    \n",
    "    \n",
    "    outBand = ds_new.GetRasterBand(1)\n",
    "    outBand.WriteArray(ir)\n",
    "    ds_new.GetRasterBand(1).SetNoDataValue(0)\n",
    "    \n",
    "    outBand = ds_new.GetRasterBand(2)\n",
    "    outBand.WriteArray(r)\n",
    "    ds_new.GetRasterBand(2).SetNoDataValue(0)\n",
    "    \n",
    "    outBand = ds_new.GetRasterBand(3)\n",
    "    outBand.WriteArray(g)\n",
    "    ds_new.GetRasterBand(3).SetNoDataValue(0)\n",
    "    \n",
    "    outBand = ds_new.GetRasterBand(4)\n",
    "    outBand.WriteArray(b)\n",
    "    ds_new.GetRasterBand(4).SetNoDataValue(0)\n",
    "    \n",
    "    # Close dataset\n",
    "    ds_new.FlushCache()\n",
    "    ds_new = None\n",
    "    outBand = None"
   ]
  },
  {
   "cell_type": "markdown",
   "metadata": {},
   "source": [
    "## Rescale Optical Bands"
   ]
  },
  {
   "cell_type": "code",
   "execution_count": null,
   "metadata": {},
   "outputs": [],
   "source": [
    "ciop.log (\"INFO\", \"Rescaling optical features\")\n",
    "for res in S2_RESOLUTION:\n",
    "    \n",
    "    data = [    \n",
    "            [os.path.join(OPTICAL_PATH, 'S2_B02_' + str(res).zfill(3) + '.tif'), B_MIN_MAX_CH[0] ,  B_MIN_MAX_CH[1],  B_MIN_MAX_CH[2]],\n",
    "            [os.path.join(OPTICAL_PATH, 'S2_B03_' + str(res).zfill(3) + '.tif'), G_MIN_MAX_CH[0] ,  G_MIN_MAX_CH[1],  G_MIN_MAX_CH[2]],\n",
    "            [os.path.join(OPTICAL_PATH, 'S2_B04_' + str(res).zfill(3) + '.tif'), R_MIN_MAX_CH[0] ,  R_MIN_MAX_CH[1],  R_MIN_MAX_CH[2]],\n",
    "            [os.path.join(OPTICAL_PATH, 'S2_B08_' + str(res).zfill(3) + '.tif'), IR_MIN_MAX_CH[0] , IR_MIN_MAX_CH[1], IR_MIN_MAX_CH[2]] \n",
    "                ]\n",
    "            \n",
    "    data_ndvi_path = os.path.join(OPTICAL_PATH, 'S2_NDVI_' + str(res).zfill(3) + '.tif')\n",
    "    \n",
    "    \n",
    "    ####################### ############ #######################\n",
    "    ####################### Rescale NDVI #######################\n",
    "    ####################### ############ #######################\n",
    "    \n",
    "    image, geoT, proj = nx.readGDAL2numpy(data_ndvi_path, True)\n",
    "    \n",
    "    image = (image * 100).astype(np.int16)\n",
    "    image[image <= 0 ] = 0\n",
    "    image[image >= 80] = 80\n",
    "    image = image.astype(np.uint16)\n",
    "    \n",
    "    image = nx.map_uint16_to_uint8(image, 0, 80)\n",
    "    \n",
    "    nx.writeNumpyArr2Geotiff(data_ndvi_path[:-4] + '_UINT8.tif', image, geoTransform = geoT, \\\n",
    "                             projection = proj, GDAL_dtype = gdal.GDT_Byte, noDataValue = None)\n",
    "    \n",
    "    del image, data_ndvi_path, geoT, proj\n",
    "    \n",
    "    \n",
    "    ####################### ############# #######################\n",
    "    ####################### Rescale bands #######################\n",
    "    ####################### ############# #######################\n",
    "    for imPath, loVal, hiVal, ch in data:\n",
    "        \n",
    "        image, geoT, proj = nx.readGDAL2numpy(imPath, True)\n",
    "        image = nx.map_uint16_to_uint8(image, loVal, hiVal)\n",
    "        \n",
    "        nx.writeNumpyArr2Geotiff(imPath[:-4] + '_UINT8.tif', image, geoTransform = geoT, \\\n",
    "                             projection = proj, GDAL_dtype = gdal.GDT_Byte, noDataValue = None)\n",
    "         \n",
    "            \n",
    "        if ch == 'R':\n",
    "            r = image.copy()\n",
    "            geoT2 = geoT\n",
    "            proj2 = proj\n",
    "        if ch == 'G':\n",
    "            g = image.copy()\n",
    "        if ch == 'B':\n",
    "            b = image.copy()\n",
    "        \n",
    "        \n",
    "    createRGB = 0\n",
    "    \n",
    "    \n",
    "    for imPath, loVal, hiVal, ch in data:\n",
    "        if ch == 'R' or ch == 'B' or ch == 'G':\n",
    "            createRGB += 1\n",
    "    \n",
    "    if CREATE_RGB_RESCALED:        \n",
    "        if createRGB == 3:\n",
    "            createRGB = True\n",
    "            print(\"RGB image will be created\")\n",
    "        else:\n",
    "            createRGB = False\n",
    "            print(\"RBG channels not correctly defined. RGB image will not be created.\")        \n",
    "    else:\n",
    "        createRGB = False\n",
    "    \n",
    "    \n",
    "    \n",
    "    if createRGB:\n",
    "        nscn, npix = b.shape\n",
    "        ds_new = gdal.GetDriverByName('GTiff').Create(os.path.join(OPTICAL_PATH, 'S2_RGB_' + str(res).zfill(3) + '_UINT8.tif'), npix, nscn, 3, gdal.GDT_Byte)\n",
    "        \n",
    "        if geoT2 != None:\n",
    "            ds_new.SetGeoTransform(geoT2)\n",
    "            \n",
    "        if proj2 != None:\n",
    "            ds_new.SetProjection(proj2)    \n",
    "        \n",
    "        \n",
    "        outBand = ds_new.GetRasterBand(1)\n",
    "        outBand.WriteArray(r)\n",
    "        # ds_new.GetRasterBand(1).SetNoDataValue(0)\n",
    "        \n",
    "        outBand = ds_new.GetRasterBand(2)\n",
    "        outBand.WriteArray(g)\n",
    "        # ds_new.GetRasterBand(2).SetNoDataValue(0)\n",
    "        \n",
    "        outBand = ds_new.GetRasterBand(3)\n",
    "        outBand.WriteArray(b)\n",
    "        # ds_new.GetRasterBand(3).SetNoDataValue(0)\n",
    "        \n",
    "        # Close dataset\n",
    "        ds_new.FlushCache()\n",
    "        ds_new = None\n",
    "        outBand = None    \n",
    "    \n",
    "    del createRGB"
   ]
  },
  {
   "cell_type": "markdown",
   "metadata": {},
   "source": [
    "## Clean Optical Features"
   ]
  },
  {
   "cell_type": "code",
   "execution_count": null,
   "metadata": {},
   "outputs": [],
   "source": [
    "files = [os.path.join(OPTICAL_PATH, f) for f in os.listdir(OPTICAL_PATH) if (os.path.isfile(os.path.join(OPTICAL_PATH, f)) and os.path.join(OPTICAL_PATH, f) not in DL_INPUT_PATH)]\n",
    "for file in files:\n",
    "    os.remove(file)"
   ]
  },
  {
   "cell_type": "markdown",
   "metadata": {},
   "source": [
    "## Wetness Threshold"
   ]
  },
  {
   "cell_type": "code",
   "execution_count": null,
   "metadata": {},
   "outputs": [],
   "source": [
    "from skimage import morphology"
   ]
  },
  {
   "cell_type": "code",
   "execution_count": null,
   "metadata": {},
   "outputs": [],
   "source": [
    "ciop.log (\"INFO\", \"Computing wetness feature\")\n",
    "filename_template = 'DEM_{}_WETNESS{}'.format(str(WORK_RES).zfill(3), '{}')\n",
    "\n",
    "file_id = '.sdat'\n",
    "filename = filename_template.format(file_id)\n",
    "file_path = os.path.join(FEATURES_PATH, filename)\n",
    "\n",
    "wetness, geoTransform, projection = nx.readGDAL2numpy(file_path, True)\n",
    "nscn, npix = wetness.shape\n",
    "wetness[np.isnan(wetness)] = 0\n",
    "\n",
    "wetness[wetness < WETNESS_T] = 0\n",
    "wetness[wetness >= WETNESS_T] = 1\n",
    "wetness = np.array(wetness, np.uint8)\n",
    "\n",
    "file_id = '_threshold.tif'\n",
    "filename = filename_template.format(file_id)\n",
    "file_path = os.path.join(FEATURES_PATH, filename)\n",
    "nx.writeNumpyArr2Geotiff(file_path, wetness * 255, geoTransform = geoTransform, projection = projection, GDAL_dtype = gdal.GDT_Byte, noDataValue = 0)\n",
    "\n",
    "wetness = morphology.remove_small_objects(wetness.astype(np.bool), min_size = N_CONNECTED_PIXEL_MIN, connectivity=CENTRE_OF_PIXEL_DISTANCE).astype(np.uint8)\n",
    "wetness = nx.closeCV(wetness, CLOSE_T)\n",
    "\n",
    "file_id = '_connected.tif'\n",
    "filename = filename_template.format(file_id)\n",
    "file_path = os.path.join(FEATURES_PATH, filename)\n",
    "nx.writeNumpyArr2Geotiff(file_path, wetness * 255, geoTransform = geoTransform, projection = projection, GDAL_dtype = gdal.GDT_Byte, noDataValue = 0)"
   ]
  },
  {
   "cell_type": "markdown",
   "metadata": {},
   "source": [
    "## Classification parameters"
   ]
  },
  {
   "cell_type": "code",
   "execution_count": null,
   "metadata": {},
   "outputs": [],
   "source": [
    "region = model['value']\n",
    "if region == 'Oregon':\n",
    "    RESOLUTION = 7\n",
    "elif region == 'Bhutan':\n",
    "    RESOLUTION = 10\n",
    "OUTPUT_FOLDER_NAME  = data_path #os.path.join(data_path, 'outputFolder')\n",
    "mask_template = \"{}_{}.tif\"\n",
    "BOUNDARY_MASK = os.path.join(BOUNDARY_PATH, mask_template.format(REGION_TYPE, str(RESOLUTION).zfill(3)))\n",
    "LOCAL_MODEL_PATH = \"./{}\".format(model_name)\n",
    "APP_MODEL_PATH = \"/application/notebook/libexec/{}\".format(model_name)\n",
    "SCALE_FACTOR = 1\n",
    "TILE_SIZE = 224\n",
    "THRESHOLD = 50"
   ]
  },
  {
   "cell_type": "code",
   "execution_count": null,
   "metadata": {},
   "outputs": [],
   "source": [
    "import itertools\n",
    "from tensorflow.keras import models\n",
    "from tensorflow.keras import backend as K\n",
    "from tensorflow.python.keras import optimizers\n",
    "from losses import BCE_F_TI_LOSS, MCC, PRED_AREA, POD, POFD "
   ]
  },
  {
   "cell_type": "code",
   "execution_count": null,
   "metadata": {},
   "outputs": [],
   "source": [
    "def bbox(img):\n",
    "    scn = np.any(img, axis=1)\n",
    "    pix = np.any(img, axis=0)\n",
    "    scnMin, scnMax = np.where(scn)[0][[0, -1]]\n",
    "    pixMin, pixMax = np.where(pix)[0][[0, -1]]\n",
    "    return [scnMin, scnMax, pixMin, pixMax]\n",
    "\n",
    "\n",
    "def getBoundingBox(resolution, regionType = REGION_TYPE, returnBinaryMask = False):\n",
    "    rasterPath = os.path.join(BOUNDARY_PATH, REGION_TYPE + '_' + str(resolution).zfill(3) + '.tif')\n",
    "    maskImage = nx.readGDAL2numpy(rasterPath, False)\n",
    "\n",
    "    yMin, yMax, xMin, xMax = bbox(maskImage)\n",
    "\n",
    "    if returnBinaryMask:\n",
    "        return yMin, yMax, xMin, xMax , maskImage[yMin : yMax, xMin : xMax]\n",
    "    else:\n",
    "        return yMin, yMax, xMin, xMax"
   ]
  },
  {
   "cell_type": "markdown",
   "metadata": {},
   "source": [
    "### TODO: Check if all required pre-processed files are available"
   ]
  },
  {
   "cell_type": "code",
   "execution_count": null,
   "metadata": {},
   "outputs": [],
   "source": [
    "ciop.log (\"INFO\", \"Loading features into memory\")\n",
    "inputChannel = len(DL_INPUT_PATH)\n",
    "\n",
    "mask, geoTransform, projection = nx.readGDAL2numpy(BOUNDARY_MASK, return_geoInformation = True)\n",
    "inputImages = np.zeros([mask.shape[0], mask.shape[1], inputChannel], dtype = np.float32)\n",
    "for i in range(inputChannel):\n",
    "    inputImages[ : , : , i] = cv2.resize(nx.readGDAL2numpy(DL_INPUT_PATH[i], return_geoInformation = False), (mask.shape[1], mask.shape[0]), interpolation=cv2.INTER_CUBIC)\n",
    "    ciop.log (\"INFO\", DL_INPUT_PATH[i] + \" loaded in Memory.\")\n",
    "del i\n",
    "\n",
    "yMin, yMax, xMin, xMax, binaryMask = getBoundingBox(resolution = RESOLUTION, regionType = REGION_TYPE, returnBinaryMask = True)\n",
    "\n",
    "testImage = inputImages[yMin : yMax, xMin : xMax, :]\n",
    "\n",
    "del inputImages, mask"
   ]
  },
  {
   "cell_type": "code",
   "execution_count": null,
   "metadata": {},
   "outputs": [],
   "source": [
    "fetchSize = int(TILE_SIZE / 2)\n",
    "\n",
    "Y = [y for y in range(fetchSize, testImage.shape[0] - fetchSize, fetchSize)]\n",
    "X = [x for x in range(fetchSize, testImage.shape[1] - fetchSize, fetchSize)]\n",
    "\n",
    "\n",
    "newGeoTransform = nx.newGeoTransform(geoTransform, {'xMin' : xMin, 'yMin' : yMin})\n",
    "shrinkGeoTransform = nx.shrinkGeoTransform(newGeoTransform, 1/SCALE_FACTOR)"
   ]
  },
  {
   "cell_type": "code",
   "execution_count": null,
   "metadata": {},
   "outputs": [],
   "source": [
    "ciop.log (\"INFO\", \"Loading model into memory\")\n",
    "if os.path.isfile(LOCAL_MODEL_PATH):\n",
    "    model = models.load_model(LOCAL_MODEL_PATH, compile=False)\n",
    "elif os.path.isfile(APP_MODEL_PATH):\n",
    "    model = models.load_model(APP_MODEL_PATH, compile=False)\n",
    "else:\n",
    "    sys.exit()"
   ]
  },
  {
   "cell_type": "code",
   "execution_count": null,
   "metadata": {},
   "outputs": [],
   "source": [
    "make_loss = BCE_F_TI_LOSS()\n",
    "model_optimizer = optimizers.Adam()\n",
    "\n",
    "\n",
    "model.compile(optimizer=model_optimizer, loss=make_loss, metrics=[MCC, PRED_AREA, POD, POFD])\n",
    "      \n",
    "shrinkLabelImageShape = [np.int(testImage.shape[0]/SCALE_FACTOR), np.int(testImage.shape[1]/SCALE_FACTOR)]\n",
    "\n",
    "outputTileSize = int(TILE_SIZE / 2 * SCALE_FACTOR)\n",
    "outputFetchSize = int(outputTileSize/2)\n",
    "\n",
    "predictMask = np.zeros(shrinkLabelImageShape, np.uint8)\n",
    "predictStable = np.zeros(shrinkLabelImageShape, np.uint8)"
   ]
  },
  {
   "cell_type": "code",
   "execution_count": null,
   "metadata": {},
   "outputs": [],
   "source": [
    "ciop.log (\"INFO\", \"Computing prediction\")\n",
    "img_shape = (TILE_SIZE, TILE_SIZE, inputChannel)\n",
    "\n",
    "\n",
    "locXY = itertools.product(X,Y)\n",
    "for x, y in locXY:\n",
    "    img = testImage[y - fetchSize : y + fetchSize, x - fetchSize : x + fetchSize, :] * DL_SCALE_PARAMETER\n",
    "    img = img.reshape(1, img_shape[0], img_shape[1], inputChannel)\n",
    "    predicted_label = model.predict(img)[0]\n",
    "    \n",
    "    predictMask[int(y/SCALE_FACTOR) - outputFetchSize : int(y/SCALE_FACTOR) + outputFetchSize, int(x/SCALE_FACTOR) - outputFetchSize : int(x/SCALE_FACTOR) + outputFetchSize] = predicted_label[ outputTileSize-outputFetchSize : outputTileSize+outputFetchSize , outputTileSize-outputFetchSize: outputTileSize+outputFetchSize, 0] * 100   \n"
   ]
  },
  {
   "cell_type": "code",
   "execution_count": null,
   "metadata": {},
   "outputs": [],
   "source": [
    "ciop.log (\"INFO\", \"Saving results into file\")\n",
    "filename = \"{}_LS_PROBABILITY.tif\".format(IMG_STRING)\n",
    "nx.writeNumpyArr2Geotiff(filename, predictMask, shrinkGeoTransform, projection, GDAL_dtype = gdal.GDT_Byte, noDataValue = 0)\n",
    "\n",
    "del model\n",
    "K.clear_session()\n",
    "\n",
    "del testImage, predictMask, predictStable, binaryMask, img    "
   ]
  },
  {
   "cell_type": "code",
   "execution_count": null,
   "metadata": {},
   "outputs": [],
   "source": [
    "landslide_Predict = nx.readGDAL2numpy(filename, False)\n",
    "landslide_Predict = np.where(landslide_Predict > THRESHOLD, 1, 0)\n",
    "filename = \"{}_LS_PREDICTION.tif\".format(IMG_STRING)\n",
    "nx.writeNumpyArr2Geotiff(filename, landslide_Predict, shrinkGeoTransform, projection, GDAL_dtype = gdal.GDT_Byte, noDataValue = 0)"
   ]
  },
  {
   "cell_type": "markdown",
   "metadata": {},
   "source": [
    "## Clean Workspace"
   ]
  },
  {
   "cell_type": "code",
   "execution_count": null,
   "metadata": {},
   "outputs": [],
   "source": [
    "CLEAN_PARENT_FOLDER = [FEATURES_PATH, AOI_SHP_PATH]\n",
    "for folder in CLEAN_PARENT_FOLDER:\n",
    "    shutil.rmtree(os.path.dirname(folder))"
   ]
  }
 ],
 "metadata": {
  "kernelspec": {
   "display_name": "p36-ethz-03-01-01",
   "language": "python",
   "name": "p36-ethz-03-01-01"
  },
  "language_info": {
   "codemirror_mode": {
    "name": "ipython",
    "version": 3
   },
   "file_extension": ".py",
   "mimetype": "text/x-python",
   "name": "python",
   "nbconvert_exporter": "python",
   "pygments_lexer": "ipython3",
   "version": "3.6.6"
  }
 },
 "nbformat": 4,
 "nbformat_minor": 2
}
